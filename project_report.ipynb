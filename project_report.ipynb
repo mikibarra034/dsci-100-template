{
 "cells": [
  {
   "cell_type": "markdown",
   "id": "90bd7003-a038-480f-a167-f5dff94b3205",
   "metadata": {},
   "source": [
    "# Visualizing the Effects of Cholesterol and Blood Pressure on Heart Disease\n",
    "\n",
    "*Mikel Ibarra Gallardo, Akshat Karla, Caitlin Lichimo, JunYuan Liu*"
   ]
  },
  {
   "cell_type": "markdown",
   "id": "a0a7767c-f1ed-445b-b5aa-7e290257c123",
   "metadata": {},
   "source": [
    "## Introduction\n",
    "\n",
    "   Heart disease is a major global cause of death that takes millions of lives per year. According to the CDC, there is one death in the US every 34 seconds due to heart disease. Not only is this unfortunate for those ⅕ people who suffer this demise, but it also costs billions of dollars in health care services. Heart disease data sets such as this one can be useful to predict factors that make certain demographics of people more susceptible for suffering from a heart disease, thus allowing the development of mitigation strategies."
   ]
  },
  {
   "cell_type": "markdown",
   "id": "9eab3775-e469-498f-a0d8-6c6708e873fb",
   "metadata": {},
   "source": [
    "## Question: \n",
    "\n",
    "Are cholesterol and/or blood pressure good indicators of heart disease?"
   ]
  },
  {
   "cell_type": "markdown",
   "id": "2bf69311-1efd-433b-a53f-cf7999c34fb6",
   "metadata": {
    "jp-MarkdownHeadingCollapsed": true,
    "tags": []
   },
   "source": [
    "## Preliminary Exploratory Data Analysis:\n",
    "\n",
    "We will be using the Heart Disease Data Set provided by UC Irvine. This data set describes heart condition information based on 303 individuals from different regions. This data is divided into 4 databases: Cleveland, Hungary, Switzerland, and the VA Long Beach, however we will only be utilizinng the Cleaveland data. The data set contains 76 attributes, but so far only 14 have been cited in literature:\n",
    "\n",
    "- Age: age in years\n",
    "- Sex: sex (1 = male; 0 = female)\n",
    "- Cp: chest pain type (value 1 = typical angina, value 2 = atypical angina, value 3 = non-anginal pain, value 4 = asymptomatic)\n",
    "- Trestbps: resting blood pressure (in mm Hg on admission to the hospital)\n",
    "- Chol: serum cholesterol in mg/dl\n",
    "- Fbs: fasting blood sugar > 120 mg/dl (1 = true; 0 = false)\n",
    "- Restecg: resting electrocardiographic results (value 0 = normal, value 1 = having ST-T wave abnormality, value 2 = showing probably or definite left ventricular hypertrophy by Estes’ criteria\n",
    "- Thalach: maximum heart rate achieved\n",
    "- Exang: exercise induced angina (1 = yes; 0 = no)\n",
    "- Oldpeak: ST depression induced by exercise relative to rest\n",
    "- Slope: the slope of the peak exercise ST segment (value 1 = upsloping, value 2 = flat, value 3 = downsloping)\n",
    "- Ca: number of major vessels (0-3) colored by fluoroscopy\n",
    "- Thal: 3 = normal, 6 = fixed defect, 7 = reversible defect\n",
    "- Num: diagnosis of heart disease (angiographic disease status) (value 0 = <50% diameter narrowing, value 1 = > 50% diameter narrowing)\n",
    "\n",
    "For this project, we will be using the processed data from Cleaveland."
   ]
  },
  {
   "cell_type": "markdown",
   "id": "cf97ea2f-2117-47c1-8812-4bb74c6c0663",
   "metadata": {},
   "source": [
    "## Method\n",
    "\n",
    "To start our preliminary analysis, we loaded the Heart Disease dataset from the original source on the web using"
   ]
  },
  {
   "cell_type": "code",
   "execution_count": null,
   "id": "3386701d-62ba-4134-94ea-a14d93b215ea",
   "metadata": {},
   "outputs": [],
   "source": [
    "library(tidyverse)\n",
    "# library(tidymodels)"
   ]
  },
  {
   "cell_type": "code",
   "execution_count": null,
   "id": "68169eb1-1cda-4e2d-82f4-8e604450e170",
   "metadata": {},
   "outputs": [],
   "source": [
    "names = c(\"Age\",\"Sex\", \"p\",\"Trestbps\", \"Chol\", \"Fbs\", \"Restecg\", \"Thalach\", \"Exang\", \"Oldpeak\", \"Slope\", \"Ca\", \"Thal\", \"Num\")\n",
    "df_cleveland <- read_delim(\"https://archive.ics.uci.edu/ml/machine-learning-databases/heart-disease/processed.cleveland.data\", \",\", col_names = names)\n",
    "df_cleveland[df_cleveland == \"?\"] <- NA\n",
    "df_cleveland <- mutate(df_cleveland, Num2 = Num/Num)\n",
    "df_cleveland[df_cleveland == \"NaN\"] <- 0\n",
    "df_cleveland <- df_cleveland |> \n",
    "        mutate(\"Location\" = \"Cleveland\")\n",
    "\n",
    "df_cleveland"
   ]
  },
  {
   "cell_type": "code",
   "execution_count": null,
   "id": "607c22c6-311c-44a9-9ec2-e2904d7ed10e",
   "metadata": {},
   "outputs": [],
   "source": [
    "BP_vs_Age_plot <- df_cleveland |>\n",
    "    ggplot(aes(x=Age,y=Chol, color=factor(Num2))) + \n",
    "        geom_point() +\n",
    "        labs(x = \"Age\",y = \"Blood Pressure\", color = \"Geographical Location\", shape = \"Dagnosis of Heart Disease\")\n",
    "BP_vs_Age_plot"
   ]
  },
  {
   "cell_type": "markdown",
   "id": "36e8b8b9-2dcc-4d98-93d1-adf0415dbd50",
   "metadata": {},
   "source": [
    "Read csv file online from github, then we store the database in a variable ?. \n",
    "We no\n",
    "\n",
    "Read the database online and clean the database, etc…..\n",
    "\n",
    " \n",
    "\n",
    "Since our goal is indicating the heart disease based on other observation and whether or not one gets  heart disease is a binary question, we choose to use classification on R to solve this problem.\n",
    "\n",
    " \n",
    "\n",
    "We split the database into two part, the training set and testing set. Training set is used to train the model and testing set is used to test the accuracy of the model. Cross-validation is applied to the training set in order to find the best k-value we shall use into train the model.\n",
    "\n",
    " \n",
    "\n",
    "As the RMSD (?) vs k-value shown, RMSD gets to minimum when k=?. Therefore, we pick k=? in training the model.\n",
    "\n",
    " \n",
    "\n",
    "After the model is trained by training data set, we test the accuracy of the model by testing data set. Note: after running the testing set, we could not go back to the training set and train the model once more since it’s already exposed to the testing set."
   ]
  },
  {
   "cell_type": "markdown",
   "id": "5f4bbbd5-26aa-4022-810e-ee94d5cd8c95",
   "metadata": {},
   "source": [
    "## References"
   ]
  },
  {
   "cell_type": "markdown",
   "id": "f3082576-391d-402d-aad7-c16a6d7b8231",
   "metadata": {},
   "source": [
    "Centers for Disease Control and Prevention. (2022, October 14). Heart disease facts. Centers for Disease Control and Prevention. Retrieved October 24, 2022, from https://www.cdc.gov/heartdisease/facts.htm#:~:text=Heart%20disease%20is%20the%20leading,groups%20in%20the%20United%20States.&text=One%20person%20dies%20every%2034,United%20States%20from%20cardiovascular%20disease.&text=About%20697%2C000%20people%20in%20the,1%20in%20every%205%20deaths.\n",
    "\n",
    "UCI Machine Learning Repository: Heart disease data set. (n.d.). Retrieved October 28, 2022, from https://archive.ics.uci.edu/ml/datasets/Heart+Disease"
   ]
  },
  {
   "cell_type": "code",
   "execution_count": null,
   "id": "2f93d43f-b182-4ef1-83d3-30da08d187d6",
   "metadata": {},
   "outputs": [],
   "source": []
  }
 ],
 "metadata": {
  "kernelspec": {
   "display_name": "R",
   "language": "R",
   "name": "ir"
  },
  "language_info": {
   "codemirror_mode": "r",
   "file_extension": ".r",
   "mimetype": "text/x-r-source",
   "name": "R",
   "pygments_lexer": "r",
   "version": "4.1.3"
  }
 },
 "nbformat": 4,
 "nbformat_minor": 5
}
