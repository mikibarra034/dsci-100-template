{
 "cells": [
  {
   "cell_type": "markdown",
   "id": "90bd7003-a038-480f-a167-f5dff94b3205",
   "metadata": {},
   "source": [
    "# Visualizing the Effects of Cholesterol and Blood Pressure on Heart Disease\n",
    "\n",
    "*Mikel Ibarra Gallardo, Akshat Karla, Caitlin Lichimo, JunYuan Liu*"
   ]
  },
  {
   "cell_type": "markdown",
   "id": "a0a7767c-f1ed-445b-b5aa-7e290257c123",
   "metadata": {},
   "source": [
    "## Introduction\n",
    "\n",
    "   Heart disease is a major global cause of death that takes millions of lives per year. According to the CDC, there is one death in the US every 34 seconds due to heart disease. Not only is this unfortunate for those ⅕ people who suffer this demise, but it also costs billions of dollars in health care services. Heart disease data sets such as this one can be useful to predict factors that make certain demographics of people more susceptible for suffering from a heart disease, thus allowing the development of mitigation strategies."
   ]
  },
  {
   "cell_type": "markdown",
   "id": "9eab3775-e469-498f-a0d8-6c6708e873fb",
   "metadata": {},
   "source": [
    "## Question: \n",
    "\n",
    "Are cholesterol and/or blood pressure good indicators of heart disease?"
   ]
  },
  {
   "cell_type": "markdown",
   "id": "2bf69311-1efd-433b-a53f-cf7999c34fb6",
   "metadata": {
    "jp-MarkdownHeadingCollapsed": true,
    "tags": []
   },
   "source": [
    "## Preliminary Exploratory Data Analysis:\n",
    "\n",
    "We will be using the Heart Disease Data Set provided by UC Irvine. This data set describes heart condition information based on 303 individuals from different regions. This data is divided into 4 databases: Cleveland, Hungary, Switzerland, and the VA Long Beach, however we will only be utilizinng the Cleaveland data. The data set contains 76 attributes, but so far only 14 have been cited in literature:\n",
    "\n",
    "- Age: age in years\n",
    "- Sex: sex (1 = male; 0 = female)\n",
    "- Cp: chest pain type (value 1 = typical angina, value 2 = atypical angina, value 3 = non-anginal pain, value 4 = asymptomatic)\n",
    "- Trestbps: resting blood pressure (in mm Hg on admission to the hospital)\n",
    "- Chol: serum cholesterol in mg/dl\n",
    "- Fbs: fasting blood sugar > 120 mg/dl (1 = true; 0 = false)\n",
    "- Restecg: resting electrocardiographic results (value 0 = normal, value 1 = having ST-T wave abnormality, value 2 = showing probably or definite left ventricular hypertrophy by Estes’ criteria\n",
    "- Thalach: maximum heart rate achieved\n",
    "- Exang: exercise induced angina (1 = yes; 0 = no)\n",
    "- Oldpeak: ST depression induced by exercise relative to rest\n",
    "- Slope: the slope of the peak exercise ST segment (value 1 = upsloping, value 2 = flat, value 3 = downsloping)\n",
    "- Ca: number of major vessels (0-3) colored by fluoroscopy\n",
    "- Thal: 3 = normal, 6 = fixed defect, 7 = reversible defect\n",
    "- Num: diagnosis of heart disease (angiographic disease status) (value 0 = <50% diameter narrowing, value 1 = > 50% diameter narrowing)\n",
    "\n",
    "For this project, we will be using the processed data from Cleaveland."
   ]
  },
  {
   "cell_type": "markdown",
   "id": "cf97ea2f-2117-47c1-8812-4bb74c6c0663",
   "metadata": {},
   "source": [
    "## Method\n",
    "\n",
    "To start our preliminary analysis, we loaded the Heart Disease dataset from the original source on the web using, the data from Cleveland is used and we primaryly process the raw database as follow:\n",
    "\n",
    "- Read the database from UCI machine learning data base\n",
    "\n",
    "- After having a brief view of the raw data base, we could find that\n",
    "\n",
    "  - Some Questionary mark is inside the database which indicates lacking data\n",
    "  - Also, the parameter indicates heart disease have 3 different values and not a optimal factor to train a classification model with binary variable. Therefore, we mutate it to the value 0 or 1 where 0 indicates no heart disease and 1 indicates heart disease.\n",
    "  - Additionally, for the convenience of implementing classification model later, we mutate a new column Num2 which is a factor to indicate heart disease."
   ]
  },
  {
   "cell_type": "code",
   "execution_count": null,
   "id": "3386701d-62ba-4134-94ea-a14d93b215ea",
   "metadata": {},
   "outputs": [],
   "source": [
    "library(tidyverse)\n",
    "library(tidymodels)"
   ]
  },
  {
   "cell_type": "code",
   "execution_count": null,
   "id": "68169eb1-1cda-4e2d-82f4-8e604450e170",
   "metadata": {},
   "outputs": [],
   "source": [
    "df_cleveland <- read_delim(\"https://archive.ics.uci.edu/ml/machine-learning-databases/heart-disease/processed.cleveland.data\",\n",
    "                           \",\", col_names = c(\"Age\",\"Sex\", \"p\",\"Trestbps\", \"Chol\", \"Fbs\", \"Restecg\", \"Thalach\", \"Exang\",\n",
    "                                              \"Oldpeak\", \"Slope\", \"Ca\", \"Thal\", \"Num\"))\n",
    "df_cleveland[df_cleveland == \"?\"] <- NA\n",
    "df_cleveland <- mutate(df_cleveland, Num2 = Num/Num)\n",
    "df_cleveland[df_cleveland == \"NaN\"] <- 0\n",
    "df_cleveland <- df_cleveland |> \n",
    "        mutate(\"Location\" = \"Cleveland\")\n",
    "df_cleveland <- df_cleveland |>\n",
    "                    mutate(Num2 = as.factor(Num2))\n",
    "\n",
    "df_cleveland"
   ]
  },
  {
   "cell_type": "code",
   "execution_count": null,
   "id": "607c22c6-311c-44a9-9ec2-e2904d7ed10e",
   "metadata": {},
   "outputs": [],
   "source": [
    "BP_vs_Age_plot <- df_cleveland |>\n",
    "    ggplot(aes(x=Age,y=Trestbps, color=factor(Num2))) + \n",
    "        geom_point() +\n",
    "        labs(x = \"Age\",y = \"Blood Pressure\", color = \"Diagnosis of Heart Disease\")\n",
    "BP_vs_Age_plot"
   ]
  },
  {
   "cell_type": "code",
   "execution_count": null,
   "id": "eb489a29-7c2e-452f-b37f-a3d7dda467df",
   "metadata": {},
   "outputs": [],
   "source": [
    "Chol_vs_Age_plot <- df_cleveland |>\n",
    "    ggplot(aes(x=Age,y=Chol, color=factor(Num2))) + \n",
    "        geom_point() +\n",
    "        labs(x = \"Age\",y = \"Chol\", color = \"Diagnosis of Heart Disease\")\n",
    "Chol_vs_Age_plot"
   ]
  },
  {
   "cell_type": "code",
   "execution_count": null,
   "id": "38686d08-4dbe-4a9a-acc2-24da2ea82601",
   "metadata": {},
   "outputs": [],
   "source": [
    "BP_vs_Chol_plot <- df_cleveland |>\n",
    "    ggplot(aes(x=Chol,y=Trestbps, color=factor(Num2))) + \n",
    "        geom_point() +\n",
    "        labs(x = \"Chol\",y = \"Blood Pressure\", color = \"Diagnosis of Heart Disease\")\n",
    "BP_vs_Chol_plot"
   ]
  },
  {
   "cell_type": "code",
   "execution_count": null,
   "id": "dd2dfacd-352b-41c0-a6c9-5b9f91f509ab",
   "metadata": {},
   "outputs": [],
   "source": [
    "# normalization \n",
    "df_cleveland <- df_cleveland |>\n",
    "  mutate(Age = scale(Age, center = TRUE),\n",
    "         Trestbps = scale(Trestbps, center = TRUE),\n",
    "         Chol = scale(Chol, center = TRUE))\n",
    "\n",
    "df_cleveland"
   ]
  },
  {
   "cell_type": "code",
   "execution_count": null,
   "id": "143b5770-ea8c-448c-9aca-73adb630ceb1",
   "metadata": {},
   "outputs": [],
   "source": [
    "cleveland_split <- initial_split(df_cleveland, prop = 0.75, strata = Num2)\n",
    "cleveland_train <- training(cleveland_split)\n",
    "cleveland_test <- testing(cleveland_split)"
   ]
  },
  {
   "cell_type": "code",
   "execution_count": null,
   "id": "dd3d5380-8b54-4244-a0b6-98f9d087a3fa",
   "metadata": {},
   "outputs": [],
   "source": [
    "set.seed(1)\n",
    "\n",
    "cleveland_recipe <- recipe(Num2 ~ Age + Trestbps, data = cleveland_train) |>\n",
    "  step_scale(all_predictors()) |>\n",
    "  step_center(all_predictors())\n",
    "\n",
    "knn_spec <- nearest_neighbor(weight_func = \"rectangular\", neighbors = tune()) |>\n",
    "  set_engine(\"kknn\") |>\n",
    "  set_mode(\"classification\")\n",
    "\n",
    "cleveland_vfold <- vfold_cv(cleveland_train, v = 5, strata = Num2)\n",
    "gridvals <- tibble(neighbors = seq(from = 1, to = 50, by = 5))\n",
    "\n",
    "cleveland_results <- workflow() |>\n",
    "  add_recipe(cleveland_recipe) |>\n",
    "  add_model(knn_spec) |>\n",
    "  tune_grid(resamples = cleveland_vfold, grid = gridvals) |>\n",
    "  collect_metrics() |>\n",
    "  filter(.metric == \"accuracy\")\n",
    "\n",
    "cleveland_results"
   ]
  },
  {
   "cell_type": "code",
   "execution_count": null,
   "id": "b3e4325a-16a3-4c9c-a211-e8c2fcf66a0f",
   "metadata": {},
   "outputs": [],
   "source": [
    "cleveland_bps_knn_plot <- cleveland_results |>\n",
    "    ggplot(aes(x = neighbors, y = mean)) +\n",
    "    geom_line() +\n",
    "    geom_point() +\n",
    "    labs(x = \"Neighbors\", y = \"Predictor Accuracy\") +\n",
    "    theme(text = element_text(size = 12))\n",
    "\n",
    "cleveland_bps_knn_plot"
   ]
  },
  {
   "cell_type": "code",
   "execution_count": null,
   "id": "876812f4-ca34-4dd2-a563-16a53785aca3",
   "metadata": {},
   "outputs": [],
   "source": [
    "knn_spec <- nearest_neighbor(weight_func = \"rectangular\", neighbors = 20) |>\n",
    "            set_engine(\"kknn\") |>\n",
    "            set_mode(\"classification\")\n",
    "\n",
    "cleveland_recipe <- recipe(Num2 ~ Age + Trestbps, data = cleveland_train) |>\n",
    "                        step_scale(all_predictors()) |>\n",
    "                        step_center(all_predictors())\n",
    "\n",
    "cleveland_fit <- workflow() |>\n",
    "                    add_recipe(cleveland_recipe) |>\n",
    "                    add_model(knn_spec) |>\n",
    "                    fit(data = cleveland_train)\n",
    "cleveland_fit"
   ]
  },
  {
   "cell_type": "code",
   "execution_count": null,
   "id": "203491e9-fc43-47ff-8669-a115c35a065f",
   "metadata": {},
   "outputs": [],
   "source": [
    "cleveland_testing_set_prediction <- predict(cleveland_fit, cleveland_test)\n",
    "prediction_plot <- predict(cleveland_fit, cleveland_test) |> ggplot(aes(x=Age, y=Trestbps, color=factor(Num2))) + \n",
    "        geom_point() +\n",
    "        labs(x = \"Age\",y = \"Blood Pressure\", color = \"Prediction of Getting Heart Disease\") + ggtitle(\"Predicted Heart Disease\")\n",
    "prediction_plot"
   ]
  },
  {
   "cell_type": "code",
   "execution_count": null,
   "id": "32605094-d930-45ed-a3d4-586fed007e1c",
   "metadata": {},
   "outputs": [],
   "source": [
    "actual_plot <- cleveland_test |> ggplot(aes(x=Age, y=Trestbps, color=factor(Num2))) + \n",
    "        geom_point() +\n",
    "        labs(x = \"Age\",y = \"Blood Pressure\", color = \"Prediction of Getting Heart Disease\") + ggtitle(\"Actual Heart Disease\")\n",
    "actual_plot"
   ]
  },
  {
   "cell_type": "markdown",
   "id": "36e8b8b9-2dcc-4d98-93d1-adf0415dbd50",
   "metadata": {},
   "source": [
    "Read csv file online from github, then we store the database in a variable ?. \n",
    "We no\n",
    "\n",
    "Read the database online and clean the database, etc…..\n",
    "\n",
    " \n",
    "\n",
    "Since our goal is indicating the heart disease based on other observation and whether or not one gets  heart disease is a binary question, we choose to use classification on R to solve this problem.\n",
    "\n",
    " \n",
    "\n",
    "We split the database into two part, the training set and testing set. Training set is used to train the model and testing set is used to test the accuracy of the model. Cross-validation is applied to the training set in order to find the best k-value we shall use into train the model.\n",
    "\n",
    " \n",
    "\n",
    "As the RMSD (?) vs k-value shown, RMSD gets to minimum when k=?. Therefore, we pick k=? in training the model.\n",
    "\n",
    " \n",
    "\n",
    "After the model is trained by training data set, we test the accuracy of the model by testing data set. Note: after running the testing set, we could not go back to the training set and train the model once more since it’s already exposed to the testing set."
   ]
  },
  {
   "cell_type": "markdown",
   "id": "5f4bbbd5-26aa-4022-810e-ee94d5cd8c95",
   "metadata": {},
   "source": [
    "## References"
   ]
  },
  {
   "cell_type": "markdown",
   "id": "f3082576-391d-402d-aad7-c16a6d7b8231",
   "metadata": {},
   "source": [
    "Centers for Disease Control and Prevention. (2022, October 14). Heart disease facts. Centers for Disease Control and Prevention. Retrieved October 24, 2022, from https://www.cdc.gov/heartdisease/facts.htm#:~:text=Heart%20disease%20is%20the%20leading,groups%20in%20the%20United%20States.&text=One%20person%20dies%20every%2034,United%20States%20from%20cardiovascular%20disease.&text=About%20697%2C000%20people%20in%20the,1%20in%20every%205%20deaths.\n",
    "\n",
    "UCI Machine Learning Repository: Heart disease data set. (n.d.). Retrieved October 28, 2022, from https://archive.ics.uci.edu/ml/datasets/Heart+Disease"
   ]
  },
  {
   "cell_type": "code",
   "execution_count": null,
   "id": "2f93d43f-b182-4ef1-83d3-30da08d187d6",
   "metadata": {},
   "outputs": [],
   "source": []
  }
 ],
 "metadata": {
  "kernelspec": {
   "display_name": "R",
   "language": "R",
   "name": "ir"
  },
  "language_info": {
   "codemirror_mode": "r",
   "file_extension": ".r",
   "mimetype": "text/x-r-source",
   "name": "R",
   "pygments_lexer": "r",
   "version": "4.1.3"
  }
 },
 "nbformat": 4,
 "nbformat_minor": 5
}
