{
 "cells": [
  {
   "cell_type": "markdown",
   "id": "90bd7003-a038-480f-a167-f5dff94b3205",
   "metadata": {},
   "source": [
    "# Visualizing the Effects of Cholesterol and Blood Pressure on Heart Disease\n",
    "\n",
    "*Mikel Ibarra Gallardo, Akshat Karla, Caitlin Lichimo, JunYuan Liu*"
   ]
  },
  {
   "cell_type": "markdown",
   "id": "a0a7767c-f1ed-445b-b5aa-7e290257c123",
   "metadata": {},
   "source": [
    "## Introduction\n",
    "\n",
    "Heart disease is one of, if not the most common causes for death in the United States. The CDC estimates that approximately ⅕ deaths in the country are caused by it, with it being so severe that a person will die every 34 seconds because of heart disease. There are a variety of factors that can contribute to the likelihood of heart disease, along with the varieties that exist, with coronary heart disease (CAD) being the most common of them. Out of the contributing factors towards CAD, there are two in particular that are more influential: blood pressure and cholesterol level in plasma. Studies in the past have shown there to be a correlation between both blood pressure & cholesterol levels and heart disease. A study focusing on blood pressure found that it can be  a major risk factor towards CAD, especially with those who are over 35 and those diagnosed with hypertension (Jeremiah Statler, et al., 1989). Another study which focused on cholesterol found that it has a very strong correlation with CAD, due to the formation of fatty plaque within the arteries which is aided by low density proteolipids (Scott M. Grundy, 1986). The latter study, as well as the CDC, both suggest that one of the most efficient ways to prevent high cholesterol is through a change in diet, regular exercise, and a reduction of consumption of harmful substances (such as alcohol or tobacco). However, this research will be asking the following question: is cholesterol and/or blood pressure good preditors of heart disease?\n",
    "\n",
    "We will be using the Heart Disease Data Set provided by UC Irvine. This data set describes heart condition information based on 303 individuals from different regions. This data is divided into 4 databases: Cleveland, Hungary, Switzerland, and the VA Long Beach, however we will only be utilizinng the Cleaveland data. The data set contains 76 attributes, but so far only 14 have been cited in literature:\n",
    "\n",
    "- Age: age in years\n",
    "- Sex: sex (1 = male; 0 = female)\n",
    "- Cp: chest pain type (value 1 = typical angina, value 2 = atypical angina, value 3 = non-anginal pain, value 4 = asymptomatic)\n",
    "- Trestbps: resting blood pressure (in mm Hg on admission to the hospital)\n",
    "- Chol: serum cholesterol in mg/dl\n",
    "- Fbs: fasting blood sugar > 120 mg/dl (1 = true; 0 = false)\n",
    "- Restecg: resting electrocardiographic results (value 0 = normal, value 1 = having ST-T wave abnormality, value 2 = showing probably or definite left ventricular hypertrophy by Estes’ criteria\n",
    "- Thalach: maximum heart rate achieved\n",
    "- Exang: exercise induced angina (1 = yes; 0 = no)\n",
    "- Oldpeak: ST depression induced by exercise relative to rest\n",
    "- Slope: the slope of the peak exercise ST segment (value 1 = upsloping, value 2 = flat, value 3 = downsloping)\n",
    "- Ca: number of major vessels (0-3) colored by fluoroscopy\n",
    "- Thal: 3 = normal, 6 = fixed defect, 7 = reversible defect\n",
    "- Num: diagnosis of heart disease (angiographic disease status) (value 0 = <50% diameter narrowing, value 1 = > 50% diameter narrowing)"
   ]
  },
  {
   "cell_type": "markdown",
   "id": "cf97ea2f-2117-47c1-8812-4bb74c6c0663",
   "metadata": {},
   "source": [
    "## Method"
   ]
  },
  {
   "cell_type": "code",
   "execution_count": null,
   "id": "3386701d-62ba-4134-94ea-a14d93b215ea",
   "metadata": {},
   "outputs": [],
   "source": [
    "library(tidyverse)\n",
    "library(tidymodels)"
   ]
  },
  {
   "cell_type": "markdown",
   "id": "d37d240f-1251-4f2a-91db-00043d2e2116",
   "metadata": {},
   "source": []
  },
  {
   "cell_type": "code",
   "execution_count": null,
   "id": "68169eb1-1cda-4e2d-82f4-8e604450e170",
   "metadata": {},
   "outputs": [],
   "source": [
    "df_cleveland <- read_delim(\"https://archive.ics.uci.edu/ml/machine-learning-databases/heart-disease/processed.cleveland.data\",\n",
    "                           \",\", col_names = c(\"Age\",\"Sex\", \"p\",\"Trestbps\", \"Chol\", \"Fbs\", \"Restecg\", \"Thalach\", \"Exang\",\n",
    "                                              \"Oldpeak\", \"Slope\", \"Ca\", \"Thal\", \"Num\"))\n",
    "df_cleveland[df_cleveland == \"?\"] <- NA\n",
    "df_cleveland <- mutate(df_cleveland, Num2 = Num/Num)\n",
    "df_cleveland[df_cleveland == \"NaN\"] <- 0\n",
    "df_cleveland <- df_cleveland |> \n",
    "        mutate(\"Location\" = \"Cleveland\")\n",
    "df_cleveland <- df_cleveland |>\n",
    "                    mutate(Num2 = as.factor(Num2))\n",
    "\n",
    "df_cleveland"
   ]
  },
  {
   "cell_type": "markdown",
   "id": "e23f90ec-fb78-4178-8f47-08e4e8eff73e",
   "metadata": {},
   "source": []
  },
  {
   "cell_type": "code",
   "execution_count": null,
   "id": "607c22c6-311c-44a9-9ec2-e2904d7ed10e",
   "metadata": {},
   "outputs": [],
   "source": [
    "BP_vs_Age_plot <- df_cleveland |>\n",
    "    ggplot(aes(x=Age,y=Trestbps, color=factor(Num2))) + \n",
    "        geom_point() +\n",
    "        labs(x = \"Age\",y = \"Blood Pressure\", color = \"Diagnosis of Heart Disease\")\n",
    "BP_vs_Age_plot"
   ]
  },
  {
   "cell_type": "markdown",
   "id": "53229e3e-43a8-4bc6-87cc-5eea508b935a",
   "metadata": {},
   "source": []
  },
  {
   "cell_type": "code",
   "execution_count": null,
   "id": "eb489a29-7c2e-452f-b37f-a3d7dda467df",
   "metadata": {},
   "outputs": [],
   "source": [
    "Chol_vs_Age_plot <- df_cleveland |>\n",
    "    ggplot(aes(x=Age,y=Chol, color=factor(Num2))) + \n",
    "        geom_point() +\n",
    "        labs(x = \"Age\",y = \"Chol\", color = \"Diagnosis of Heart Disease\")\n",
    "Chol_vs_Age_plot"
   ]
  },
  {
   "cell_type": "markdown",
   "id": "ed17442d-3c26-4aea-beb3-407ffd49e417",
   "metadata": {},
   "source": []
  },
  {
   "cell_type": "code",
   "execution_count": null,
   "id": "38686d08-4dbe-4a9a-acc2-24da2ea82601",
   "metadata": {},
   "outputs": [],
   "source": [
    "BP_vs_Chol_plot <- df_cleveland |>\n",
    "    ggplot(aes(x=Chol,y=Trestbps, color=factor(Num2))) + \n",
    "        geom_point() +\n",
    "        labs(x = \"Chol\",y = \"Blood Pressure\", color = \"Diagnosis of Heart Disease\")\n",
    "BP_vs_Chol_plot"
   ]
  },
  {
   "cell_type": "markdown",
   "id": "bb5a4090-b6cd-486f-9f71-1330b81ae42d",
   "metadata": {},
   "source": []
  },
  {
   "cell_type": "code",
   "execution_count": null,
   "id": "dd2dfacd-352b-41c0-a6c9-5b9f91f509ab",
   "metadata": {},
   "outputs": [],
   "source": [
    "# normalization \n",
    "df_cleveland <- df_cleveland |>\n",
    "  mutate(Age = scale(Age, center = TRUE),\n",
    "         Trestbps = scale(Trestbps, center = TRUE),\n",
    "         Chol = scale(Chol, center = TRUE))\n",
    "\n",
    "df_cleveland"
   ]
  },
  {
   "cell_type": "markdown",
   "id": "d71065b4-c93f-46ed-9fdf-3cf49091ebca",
   "metadata": {},
   "source": []
  },
  {
   "cell_type": "code",
   "execution_count": null,
   "id": "143b5770-ea8c-448c-9aca-73adb630ceb1",
   "metadata": {},
   "outputs": [],
   "source": [
    "cleveland_split <- initial_split(df_cleveland, prop = 0.75, strata = Num2)\n",
    "cleveland_train <- training(cleveland_split)\n",
    "cleveland_test <- testing(cleveland_split)"
   ]
  },
  {
   "cell_type": "markdown",
   "id": "6778bc9b-a954-4cc9-8781-56814b2e6030",
   "metadata": {},
   "source": []
  },
  {
   "cell_type": "code",
   "execution_count": null,
   "id": "dd3d5380-8b54-4244-a0b6-98f9d087a3fa",
   "metadata": {},
   "outputs": [],
   "source": [
    "set.seed(1)\n",
    "\n",
    "cleveland_recipe <- recipe(Num2 ~ Age + Trestbps, data = cleveland_train) |>\n",
    "  step_scale(all_predictors()) |>\n",
    "  step_center(all_predictors())\n",
    "\n",
    "knn_spec <- nearest_neighbor(weight_func = \"rectangular\", neighbors = tune()) |>\n",
    "  set_engine(\"kknn\") |>\n",
    "  set_mode(\"classification\")\n",
    "\n",
    "cleveland_vfold <- vfold_cv(cleveland_train, v = 5, strata = Num2)\n",
    "gridvals <- tibble(neighbors = seq(from = 1, to = 80, by = 5))\n",
    "\n",
    "cleveland_results <- workflow() |>\n",
    "  add_recipe(cleveland_recipe) |>\n",
    "  add_model(knn_spec) |>\n",
    "  tune_grid(resamples = cleveland_vfold, grid = gridvals) |>\n",
    "  collect_metrics() |>\n",
    "  filter(.metric == \"accuracy\")\n",
    "\n",
    "cleveland_results"
   ]
  },
  {
   "cell_type": "markdown",
   "id": "1209e6af-7f26-40f1-ac4f-7673ffbd2ca5",
   "metadata": {},
   "source": []
  },
  {
   "cell_type": "code",
   "execution_count": null,
   "id": "b3e4325a-16a3-4c9c-a211-e8c2fcf66a0f",
   "metadata": {},
   "outputs": [],
   "source": [
    "cleveland_bps_knn_plot <- cleveland_results |>\n",
    "    ggplot(aes(x = neighbors, y = mean)) +\n",
    "    geom_line() +\n",
    "    geom_point() +\n",
    "    labs(x = \"Neighbors\", y = \"Predictor Accuracy\") +\n",
    "    theme(text = element_text(size = 12))\n",
    "\n",
    "cleveland_bps_knn_plot"
   ]
  },
  {
   "cell_type": "markdown",
   "id": "2a47bd8a-b912-422c-86b8-d5ab577b7309",
   "metadata": {},
   "source": []
  },
  {
   "cell_type": "code",
   "execution_count": null,
   "id": "876812f4-ca34-4dd2-a563-16a53785aca3",
   "metadata": {},
   "outputs": [],
   "source": [
    "knn_spec <- nearest_neighbor(weight_func = \"rectangular\", neighbors = 25) |>\n",
    "            set_engine(\"kknn\") |>\n",
    "            set_mode(\"classification\")\n",
    "\n",
    "cleveland_recipe <- recipe(Num2 ~ Age + Trestbps, data = cleveland_train) |>\n",
    "                        step_scale(all_predictors()) |>\n",
    "                        step_center(all_predictors())\n",
    "\n",
    "cleveland_fit <- workflow() |>\n",
    "                    add_recipe(cleveland_recipe) |>\n",
    "                    add_model(knn_spec) |>\n",
    "                    fit(data = cleveland_train)\n",
    "cleveland_fit"
   ]
  },
  {
   "cell_type": "markdown",
   "id": "eeeb890d-84bc-44c0-903b-534708265863",
   "metadata": {},
   "source": []
  },
  {
   "cell_type": "code",
   "execution_count": null,
   "id": "827f5d9e-87c8-4e3b-821a-f35827248e09",
   "metadata": {},
   "outputs": [],
   "source": [
    "cleveland_prediction <- predict(cleveland_fit, cleveland_test)\n",
    "cleveland_testing_set_prediction <- cbind(cleveland_test,cleveland_prediction)\n",
    "cleveland_testing_set_prediction"
   ]
  },
  {
   "cell_type": "markdown",
   "id": "ee6ec4d6-de46-4a55-a864-55f3e579609a",
   "metadata": {},
   "source": []
  },
  {
   "cell_type": "code",
   "execution_count": null,
   "id": "06eeed9f-d650-4a92-8a1e-2a2b48ca33b6",
   "metadata": {},
   "outputs": [],
   "source": [
    "prediction_plot <- cleveland_testing_set_prediction |> ggplot(aes(x=Age, y=Trestbps, color=factor(`.pred_class`))) + \n",
    "        geom_point() +\n",
    "        labs(x = \"Age\",y = \"Blood Pressure\", color = \"Prediction of Getting Heart Disease\") + ggtitle(\"Predicted Heart Disease\")\n",
    "prediction_plot"
   ]
  },
  {
   "cell_type": "markdown",
   "id": "74c66a97-0aa0-4956-9f1f-445ba0bd8121",
   "metadata": {},
   "source": []
  },
  {
   "cell_type": "code",
   "execution_count": null,
   "id": "32605094-d930-45ed-a3d4-586fed007e1c",
   "metadata": {},
   "outputs": [],
   "source": [
    "actual_plot <- cleveland_test |> ggplot(aes(x=Age, y=Trestbps, color=factor(Num2))) + \n",
    "        geom_point() +\n",
    "        labs(x = \"Age\",y = \"Blood Pressure\", color = \"Actually getting Heart Disease\") + ggtitle(\"Actual Heart Disease\")\n",
    "actual_plot"
   ]
  },
  {
   "cell_type": "markdown",
   "id": "fd9698cb-995c-4f14-9078-4954cf4d5eef",
   "metadata": {},
   "source": []
  },
  {
   "cell_type": "code",
   "execution_count": null,
   "id": "092de3b9-98ac-411b-8ead-3d06c8539d2a",
   "metadata": {},
   "outputs": [],
   "source": [
    "set.seed(1)\n",
    "\n",
    "cleveland_recipe <- recipe(Num2 ~ Age + Chol,data = cleveland_train) |>\n",
    "  step_scale(all_predictors()) |>\n",
    "  step_center(all_predictors())\n",
    "\n",
    "knn_spec <- nearest_neighbor(weight_func = \"rectangular\", neighbors = tune()) |>\n",
    "  set_engine(\"kknn\") |>\n",
    "  set_mode(\"classification\")\n",
    "\n",
    "cleveland_vfold <- vfold_cv(cleveland_train, v = 5, strata = Num2)\n",
    "gridvals <- tibble(neighbors = seq(from = 1, to = 80, by = 5))\n",
    "\n",
    "cleveland_results <- workflow() |>\n",
    "  add_recipe(cleveland_recipe) |>\n",
    "  add_model(knn_spec) |>\n",
    "  tune_grid(resamples = cleveland_vfold, grid = gridvals) |>\n",
    "  collect_metrics() |>\n",
    "  filter(.metric == \"accuracy\")\n",
    "\n",
    "cleveland_results\n"
   ]
  },
  {
   "cell_type": "markdown",
   "id": "88987f8a-0d5c-4e5b-96d8-5974ca25d7b4",
   "metadata": {},
   "source": []
  },
  {
   "cell_type": "code",
   "execution_count": null,
   "id": "37dbb0ab-2f32-40c7-acdc-d3f4abad887b",
   "metadata": {},
   "outputs": [],
   "source": [
    "cleveland_bps_knn_plot <- cleveland_results |>\n",
    "    ggplot(aes(x = neighbors, y = mean)) +\n",
    "    geom_line() +\n",
    "    geom_point() +\n",
    "    labs(x = \"Neighbors\", y = \"Predictor Accuracy\") +\n",
    "    theme(text = element_text(size = 12))\n",
    "\n",
    "cleveland_bps_knn_plot"
   ]
  },
  {
   "cell_type": "markdown",
   "id": "1b5c0328-ac00-4ae7-a417-e0f23563837c",
   "metadata": {},
   "source": []
  },
  {
   "cell_type": "code",
   "execution_count": null,
   "id": "873ab982-6480-470e-b23b-f6133ee026fe",
   "metadata": {},
   "outputs": [],
   "source": [
    "knn_spec <- nearest_neighbor(weight_func = \"rectangular\", neighbors = 35) |>\n",
    "            set_engine(\"kknn\") |>\n",
    "            set_mode(\"classification\")\n",
    "\n",
    "cleveland_recipe <- recipe(Num2 ~ Age + Chol, data = cleveland_train) |>\n",
    "                        step_scale(all_predictors()) |>\n",
    "                        step_center(all_predictors())\n",
    "\n",
    "cleveland_fit <- workflow() |>\n",
    "                    add_recipe(cleveland_recipe) |>\n",
    "                    add_model(knn_spec) |>\n",
    "                    fit(data = cleveland_train)\n",
    "cleveland_fit"
   ]
  },
  {
   "cell_type": "markdown",
   "id": "81b440f5-7479-455c-9954-ddfa59353a4f",
   "metadata": {},
   "source": []
  },
  {
   "cell_type": "code",
   "execution_count": null,
   "id": "d31f3089-571f-4e52-ab20-639ca4bfc6c7",
   "metadata": {},
   "outputs": [],
   "source": [
    "prediction_plot <- cleveland_testing_set_prediction |> ggplot(aes(x=Age, y=Chol, color=factor(`.pred_class`))) + \n",
    "        geom_point() +\n",
    "        labs(x = \"Age\",y = \"Cholesterol\", color = \"Prediction of Getting Heart Disease\") + ggtitle(\"Predicted Heart Disease\")\n",
    "prediction_plot"
   ]
  },
  {
   "cell_type": "markdown",
   "id": "6f7ed91b-bb21-4443-bd2f-07d3740429ec",
   "metadata": {},
   "source": []
  },
  {
   "cell_type": "code",
   "execution_count": null,
   "id": "2a372fb9-7041-4c0a-adb2-95044ccf670a",
   "metadata": {},
   "outputs": [],
   "source": [
    "actual_plot <- cleveland_test |> ggplot(aes(x=Age, y=Chol, color=factor(Num2))) + \n",
    "        geom_point() +\n",
    "        labs(x = \"Age\",y = \"Cholesterol\", color = \"Actually getting Heart Disease\") + ggtitle(\"Actual Heart Disease\")\n",
    "actual_plot"
   ]
  },
  {
   "cell_type": "markdown",
   "id": "86e6cbe6-b3ba-4b75-851e-6c28eeed3728",
   "metadata": {},
   "source": []
  },
  {
   "cell_type": "markdown",
   "id": "36e8b8b9-2dcc-4d98-93d1-adf0415dbd50",
   "metadata": {},
   "source": [
    "## Discussion\n",
    "\n",
    "Based on our results, cholesterol is the stronger indicator for diagnosing heart disease than blood pressure. We determine this by looking at the scatterplots - the points on the plot for cholesterol vs age are much more condensed than the points on the plot for blood pressure vs age, and thus we can see a stronger correlation (60% accuracy with k nearest neighbors algorithm). We did indeed expect to find that both cholesterol and blood pressure are significant indicators for heart disease, but we did not know which one would be stronger. However, although cholesterol can definitely be considered a strong indicator, it should not be utilized nor considered as the only one. For simplicity of this project, we chose only to consider two of the most common health issues in Americans. Future research should account for other indicative variables, such as the other 74 attributes from the UC Irvine Heart Disease Data Set (e.g., chest pain, maximum heart rate, number of major vessels, etc). The more we understand about potential indicators of heart disease, the better we can treat at-risk patients.\n",
    "\n",
    "The biggest consequence of this high rate of heart disease is that it is the leading cause of death in America, with ⅕ deaths being caused by it (note that although our sample is only from Cleveland, we will interpret the results for the US as a whole). Adding to this, heart disease costs the country hundreds of billions of dollars in health care services which could instead be allocated towards other non-preventable medical needs. When looking at cholesterol and high blood pressure, the reduction of these is critical if one wishes to lower the likelihood of heart disease developing. That is not to say that by lowering cholesterol and high blood pressure levels one can fully prevent and avoid developing heart disease, but one can lower their chances of it happening. Further research in the future could focus on how people in the US can more efficiently control these factors, but also what can be done in order to aid them or to alleviate the responsibility of doing so independently and focus on improving health as a whole. \n",
    "\n",
    "The CDC recommends several methods for preventing high blood pressure and cholesterol, all involving practicing healthier living habits. Eating a healthier diet, maintaining a healthier weight, staying physically active, not smoking, drinking less alcohol, and sleeping more are the most effective ways of preventing high blood pressure and cholesterol (Centers for Disease Control and Prevention, 2022). Another important method is to seek medical professional help. These practices seem fairly simple and intuitive, so why is heart disease such an issue in a well-developed country like the US? A big reason is due to the capitalist state of the country where the billions of dollars made from junky, processed food takes priority over the health of its citizens; junk food is cheap and healthy foods are becoming exceedingly expensive making it inaccessible to eat healthy. Another reason is a general lack of education; processed food companies make their nutrition facts labels confusing enough that the average citizen wouldn’t understand how to interpret the numbers (Health US News, 2012).\n",
    "Further research findings should also be readily accessible to the general public and should utilize accessible language for easy interpretation. Clear and concise publications in the form of infographics are an example of a way to effectively relay information to the public and avoid medical misinformation/mistrust, along with outreach programs in schools and workplaces, better access to recreational/physical activities, health care, and easily accessible nutrition. \n"
   ]
  },
  {
   "cell_type": "markdown",
   "id": "5f4bbbd5-26aa-4022-810e-ee94d5cd8c95",
   "metadata": {},
   "source": [
    "## References"
   ]
  },
  {
   "cell_type": "markdown",
   "id": "f3082576-391d-402d-aad7-c16a6d7b8231",
   "metadata": {},
   "source": [
    "Centers for Disease Control and Prevention. (2022, October 14). Heart disease facts. Centers for Disease Control and Prevention. Retrieved October 24, 2022, from https://www.cdc.gov/heartdisease/facts.htm#:~:text=Heart%20disease%20is%20the%20leading,groups%20in%20the%20United%20States.&text=One%20person%20dies%20every%2034,United%20States%20from%20cardiovascular%20disease.&text=About%20697%2C000%20people%20in%20the,1%20in%20every%205%20deaths.\n",
    "\n",
    "Grundy, S. M. (1986). Cholesterol and coronary heart disease. A New Era. JAMA: The Journal of the American Medical Association, 256(20), 2849–2858. https://doi.org/10.1001/jama.256.20.2849 \n",
    "\n",
    "Stamler, J., Neaton, J. D., &amp; Wentworth, D. N. (1989). Blood pressure (systolic and Diastolic) and risk of fatal coronary heart disease. Hypertension, 13(5_supplement). https://doi.org/10.1161/01.hyp.13.5_suppl.i2 \n",
    "\n",
    "UCI Machine Learning Repository: Heart disease data set. (n.d.). Retrieved October 28, 2022, from https://archive.ics.uci.edu/ml/datasets/Heart+Disease"
   ]
  },
  {
   "cell_type": "code",
   "execution_count": null,
   "id": "2f93d43f-b182-4ef1-83d3-30da08d187d6",
   "metadata": {},
   "outputs": [],
   "source": []
  }
 ],
 "metadata": {
  "kernelspec": {
   "display_name": "R",
   "language": "R",
   "name": "ir"
  },
  "language_info": {
   "codemirror_mode": "r",
   "file_extension": ".r",
   "mimetype": "text/x-r-source",
   "name": "R",
   "pygments_lexer": "r",
   "version": "4.1.3"
  }
 },
 "nbformat": 4,
 "nbformat_minor": 5
}
