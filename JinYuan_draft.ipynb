{
 "cells": [
  {
   "cell_type": "code",
   "execution_count": null,
   "id": "e7fa3db6-c157-4258-bddb-80bf5f1c95ba",
   "metadata": {},
   "outputs": [],
   "source": [
    "# processing dataframe\n",
    "library(tidyverse)\n",
    "names = c(\"Age\",\"Sex\", \"p\",\"Trestbps\", \"Chol\", \"Fbs\", \"Restecg\", \"Thalach\", \"Exang\", \"Oldpeak\", \"Slope\", \"Ca\", \"Thal\", \"Num\")\n",
    "df_switzerland <- read_delim(\"Data/processed.switzerland.data\", \",\", col_names = names)\n",
    "df_switzerland[df_switzerland == \"?\"] <- NA\n",
    "df_switzerland <- mutate(df_switzerland, Num2 = Num/Num)\n",
    "df_switzerland[df_switzerland == \"NaN\"] <- 0\n",
    "df_switzerland <- df_switzerland |> \n",
    "        mutate(\"Location\" = \"Switzerland\")\n",
    "\n",
    "\n",
    "\n",
    "df_switzerland\n",
    "\n",
    "\n"
   ]
  },
  {
   "cell_type": "code",
   "execution_count": null,
   "id": "c95b4436-57f1-4ce2-ae71-4ff3339b7259",
   "metadata": {},
   "outputs": [],
   "source": [
    "df_cleveland <- read_delim(\"https://raw.githubusercontent.com/mikibarra034/dsci-100-template/main/Data/processed.cleveland.data\", \",\", col_names = names)\n",
    "df_cleveland[df_cleveland == \"?\"] <- NA\n",
    "df_cleveland <- mutate(df_cleveland, Num2 = Num/Num)\n",
    "df_cleveland[df_cleveland == \"NaN\"] <- 0\n",
    "df_cleveland <- df_cleveland |> \n",
    "        mutate(\"Location\" = \"Cleveland\")\n",
    "\n",
    "\n",
    "df_cleveland"
   ]
  },
  {
   "cell_type": "code",
   "execution_count": null,
   "id": "b252b033-6f59-425f-a7c5-f37ef3bce8d0",
   "metadata": {},
   "outputs": [],
   "source": [
    "df_hungarian <- read_delim(\"Data/processed.hungarian.data\", \",\", col_names = names)\n",
    "df_hungarian[df_hungarian == \"?\"] <- NA\n",
    "df_hungarian <- mutate(df_hungarian, Num2 = Num/Num)\n",
    "df_hungarian[df_hungarian == \"NaN\"] <- 0\n",
    "df_hungarian <- df_hungarian |> \n",
    "        mutate(\"Location\" = \"Hungarian\")\n",
    "\n",
    "\n",
    "\n",
    "df_hungarian"
   ]
  },
  {
   "cell_type": "code",
   "execution_count": null,
   "id": "9a78ce64-41a8-43e3-bfac-2886232546b0",
   "metadata": {},
   "outputs": [],
   "source": [
    "# merge different df\n",
    "\n",
    "# add Location\n",
    "\n",
    "# df1 and df2 are dataframe \n",
    "merged_df <- rbind(df_switzerland,df_cleveland,df_hungarian )\n",
    "\n",
    "merged_df\n"
   ]
  },
  {
   "cell_type": "code",
   "execution_count": null,
   "id": "f6928909-77f3-4a69-955f-30abf78b1783",
   "metadata": {},
   "outputs": [],
   "source": [
    "# plot colored and shaped plot\n",
    "\n",
    "final_plot <- merged_df |>\n",
    "    ggplot(aes(x=Age,y=Trestbps, color=Location, shape=factor(Num2))) + \n",
    "        geom_point() +\n",
    "        labs(x = \"Age\",y = \"Blood Pressure\", color = \"Geographical Location\", shape = \"Dagnosis of Hart Disease\")\n",
    "\n",
    "final_plot"
   ]
  },
  {
   "cell_type": "code",
   "execution_count": null,
   "id": "fdb906f0-51ef-4b5f-9397-423ed7fda460",
   "metadata": {},
   "outputs": [],
   "source": [
    "final_plot <- df_cleveland |>\n",
    "    ggplot(aes(x=Age,y=Chol, color=factor(Num2))) + \n",
    "        geom_point() +\n",
    "        labs(x = \"Age\",y = \"Blood Pressure\", color = \"Dagnosis of Heart Disease\")\n",
    "final_plot"
   ]
  },
  {
   "cell_type": "code",
   "execution_count": null,
   "id": "6fa3dbaf-86ff-499a-bfab-9ab68a47950d",
   "metadata": {},
   "outputs": [],
   "source": [
    "library(tidyverse)\n",
    "library(repr)\n",
    "# library(tidymodels)\n",
    "names = c(\"Age\",\"Sex\", \"p\",\"Trestbps\", \"Chol\", \"Fbs\", \"Restecg\", \"Thalach\", \"Exang\", \"Oldpeak\", \"Slope\", \"Ca\", \"Thal\", \"Num\")\n",
    "\n",
    "# df_switzerland <- read_delim(\"Data/processed.switzerland.data\", \",\", col_names = names)\n",
    "# df_switzerland[df_switzerland == \"?\"] <- NA\n",
    "# df_switzerland <- mutate(df_switzerland, Num2 = Num/Num)\n",
    "# df_switzerland[df_switzerland == \"NaN\"] <- 0\n",
    "\n",
    "# df_hungarian <- read_delim(\"Data/processed.hungarian.data\", \",\", col_names = names)\n",
    "# df_hungarian[df_hungarian == \"?\"] <- NA\n",
    "# df_hungarian <- mutate(df_hungarian, Num2 = Num/Num)\n",
    "# df_hungarian[df_hungarian == \"NaN\"] <- 0\n",
    "\n",
    "df_cleveland <- read_delim(\"https://raw.githubusercontent.com/mikibarra034/dsci-100-template/main/Data/processed.cleveland.data\", \",\", col_names = names)\n",
    "df_cleveland[df_cleveland == \"?\"] <- NA\n",
    "df_cleveland <- mutate(df_cleveland, Num2 = Num/Num)\n",
    "df_cleveland[df_cleveland == \"NaN\"] <- 0\n",
    "\n",
    "\n",
    "\n",
    "merged_df <- rbind(df_switzerland,df_cleveland,df_hungarian )\n",
    "merged_df"
   ]
  },
  {
   "cell_type": "code",
   "execution_count": null,
   "id": "c8c070d8-2f2b-43f4-a927-dcf5ef73fe05",
   "metadata": {},
   "outputs": [],
   "source": [
    "# final_plot <- merged_df |>\n",
    "#     ggplot(aes(x=Age,y=Chol, color=factor(Num2))) + \n",
    "#         geom_point() +\n",
    "#         labs(x = \"Age\",y = \"Blood Pressure\", color = \"Geographical Location\", shape = \"Dagnosis of Hart Disease\")\n",
    "# final_plot"
   ]
  },
  {
   "cell_type": "code",
   "execution_count": null,
   "id": "19706b05-14ef-478e-9245-2c23293a21ec",
   "metadata": {},
   "outputs": [],
   "source": []
  }
 ],
 "metadata": {
  "kernelspec": {
   "display_name": "R",
   "language": "R",
   "name": "ir"
  },
  "language_info": {
   "codemirror_mode": "r",
   "file_extension": ".r",
   "mimetype": "text/x-r-source",
   "name": "R",
   "pygments_lexer": "r",
   "version": "4.1.3"
  }
 },
 "nbformat": 4,
 "nbformat_minor": 5
}
